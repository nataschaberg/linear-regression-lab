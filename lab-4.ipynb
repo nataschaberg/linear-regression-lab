{
 "cells": [
  {
   "cell_type": "code",
   "execution_count": 1,
   "id": "c9f32508",
   "metadata": {},
   "outputs": [],
   "source": [
    "import pandas as pd\n",
    "import numpy as np\n",
    "\n",
    "from sklearn.pipeline import Pipeline\n",
    "from sklearn.compose import ColumnTransformer\n",
    "from sklearn.preprocessing import StandardScaler, OneHotEncoder, OrdinalEncoder\n",
    "from sklearn.model_selection import train_test_split\n",
    "\n",
    "from sklearn import set_config\n",
    "set_config(display=\"diagram\")\n",
    "\n",
    "import warnings\n",
    "warnings.filterwarnings('ignore')"
   ]
  },
  {
   "cell_type": "markdown",
   "id": "8e66bde0",
   "metadata": {},
   "source": [
    "### Project Setup"
   ]
  },
  {
   "cell_type": "code",
   "execution_count": 2,
   "id": "b2f408d2",
   "metadata": {},
   "outputs": [
    {
     "data": {
      "text/html": [
       "<div>\n",
       "<style scoped>\n",
       "    .dataframe tbody tr th:only-of-type {\n",
       "        vertical-align: middle;\n",
       "    }\n",
       "\n",
       "    .dataframe tbody tr th {\n",
       "        vertical-align: top;\n",
       "    }\n",
       "\n",
       "    .dataframe thead th {\n",
       "        text-align: right;\n",
       "    }\n",
       "</style>\n",
       "<table border=\"1\" class=\"dataframe\">\n",
       "  <thead>\n",
       "    <tr style=\"text-align: right;\">\n",
       "      <th></th>\n",
       "      <th>Customer</th>\n",
       "      <th>State</th>\n",
       "      <th>Customer Lifetime Value</th>\n",
       "      <th>Response</th>\n",
       "      <th>Coverage</th>\n",
       "      <th>Education</th>\n",
       "      <th>Effective To Date</th>\n",
       "      <th>EmploymentStatus</th>\n",
       "      <th>Gender</th>\n",
       "      <th>Income</th>\n",
       "      <th>...</th>\n",
       "      <th>Months Since Policy Inception</th>\n",
       "      <th>Number of Open Complaints</th>\n",
       "      <th>Number of Policies</th>\n",
       "      <th>Policy Type</th>\n",
       "      <th>Policy</th>\n",
       "      <th>Renew Offer Type</th>\n",
       "      <th>Sales Channel</th>\n",
       "      <th>Total Claim Amount</th>\n",
       "      <th>Vehicle Class</th>\n",
       "      <th>Vehicle Size</th>\n",
       "    </tr>\n",
       "  </thead>\n",
       "  <tbody>\n",
       "    <tr>\n",
       "      <th>0</th>\n",
       "      <td>BU79786</td>\n",
       "      <td>Washington</td>\n",
       "      <td>2763.519279</td>\n",
       "      <td>No</td>\n",
       "      <td>Basic</td>\n",
       "      <td>Bachelor</td>\n",
       "      <td>2/24/11</td>\n",
       "      <td>Employed</td>\n",
       "      <td>F</td>\n",
       "      <td>56274</td>\n",
       "      <td>...</td>\n",
       "      <td>5</td>\n",
       "      <td>0</td>\n",
       "      <td>1</td>\n",
       "      <td>Corporate Auto</td>\n",
       "      <td>Corporate L3</td>\n",
       "      <td>Offer1</td>\n",
       "      <td>Agent</td>\n",
       "      <td>384.811147</td>\n",
       "      <td>Two-Door Car</td>\n",
       "      <td>Medsize</td>\n",
       "    </tr>\n",
       "    <tr>\n",
       "      <th>1</th>\n",
       "      <td>QZ44356</td>\n",
       "      <td>Arizona</td>\n",
       "      <td>6979.535903</td>\n",
       "      <td>No</td>\n",
       "      <td>Extended</td>\n",
       "      <td>Bachelor</td>\n",
       "      <td>1/31/11</td>\n",
       "      <td>Unemployed</td>\n",
       "      <td>F</td>\n",
       "      <td>0</td>\n",
       "      <td>...</td>\n",
       "      <td>42</td>\n",
       "      <td>0</td>\n",
       "      <td>8</td>\n",
       "      <td>Personal Auto</td>\n",
       "      <td>Personal L3</td>\n",
       "      <td>Offer3</td>\n",
       "      <td>Agent</td>\n",
       "      <td>1131.464935</td>\n",
       "      <td>Four-Door Car</td>\n",
       "      <td>Medsize</td>\n",
       "    </tr>\n",
       "  </tbody>\n",
       "</table>\n",
       "<p>2 rows × 24 columns</p>\n",
       "</div>"
      ],
      "text/plain": [
       "  Customer       State  Customer Lifetime Value Response  Coverage Education  \\\n",
       "0  BU79786  Washington              2763.519279       No     Basic  Bachelor   \n",
       "1  QZ44356     Arizona              6979.535903       No  Extended  Bachelor   \n",
       "\n",
       "  Effective To Date EmploymentStatus Gender  Income  ...  \\\n",
       "0           2/24/11         Employed      F   56274  ...   \n",
       "1           1/31/11       Unemployed      F       0  ...   \n",
       "\n",
       "  Months Since Policy Inception Number of Open Complaints  Number of Policies  \\\n",
       "0                             5                         0                   1   \n",
       "1                            42                         0                   8   \n",
       "\n",
       "      Policy Type        Policy  Renew Offer Type  Sales Channel  \\\n",
       "0  Corporate Auto  Corporate L3            Offer1          Agent   \n",
       "1   Personal Auto   Personal L3            Offer3          Agent   \n",
       "\n",
       "  Total Claim Amount  Vehicle Class Vehicle Size  \n",
       "0         384.811147   Two-Door Car      Medsize  \n",
       "1        1131.464935  Four-Door Car      Medsize  \n",
       "\n",
       "[2 rows x 24 columns]"
      ]
     },
     "execution_count": 2,
     "metadata": {},
     "output_type": "execute_result"
    }
   ],
   "source": [
    "df_initial = pd.read_csv('files_for_lab/we_fn_use_c_marketing_customer_value_analysis.csv')\n",
    "df_initial.head(2)"
   ]
  },
  {
   "cell_type": "markdown",
   "id": "353f723d",
   "metadata": {},
   "source": [
    "### Data Cleaning"
   ]
  },
  {
   "cell_type": "markdown",
   "id": "5da8bc39",
   "metadata": {},
   "source": [
    "- create custom class for basic cleaning \n",
    "- create custome class for outlier removal\n",
    "- create cleaning steps: apply basic cleaning and outlier removal to dataset"
   ]
  },
  {
   "cell_type": "code",
   "execution_count": 3,
   "id": "10890521",
   "metadata": {},
   "outputs": [],
   "source": [
    "# Custom class for the initial cleaning steps of:\n",
    "# removing duplicates, drop features, deal with date fatures and standardize headers\n",
    "\n",
    "class CustomInitialDataCleaner:\n",
    "    def __init__(self, drop_features=[], date_features=[]):\n",
    "        self.drop_features = drop_features\n",
    "        self.date_features = date_features\n",
    "    \n",
    "    def __remove_duplicates(self, X):\n",
    "        return X[~X.duplicated()]\n",
    "    \n",
    "    def __drop_features(self, X):\n",
    "        return X.drop(self.drop_features, axis=1, inplace=False)\n",
    "    \n",
    "    def __standardize_feature_headers(self, X):\n",
    "        X.columns = [col.lower().replace(' ', '_') for col in X.columns]\n",
    "        return X\n",
    "    \n",
    "    def __handle_dates(self, X):\n",
    "        for date_f in self.date_features:\n",
    "            date_feature = pd.to_datetime(X[date_f])\n",
    "            X[f'{date_f}_year'] = date_feature.dt.year\n",
    "            X[f'{date_f}_month'] = date_feature.dt.month\n",
    "            X[f'{date_f}_day'] = date_feature.dt.day\n",
    "            X.drop(date_f, axis=1, inplace=True)\n",
    "            return X\n",
    "        \n",
    "    def clean(self, X):\n",
    "        X = self.__remove_duplicates(X)\n",
    "        X = self.__drop_features(X)\n",
    "        X = self.__handle_dates(X)\n",
    "        return self.__standardize_feature_headers(X)"
   ]
  },
  {
   "cell_type": "code",
   "execution_count": 4,
   "id": "1e019a9b",
   "metadata": {},
   "outputs": [],
   "source": [
    "# Custom class to deal with outliers\n",
    "# IMPORTANT: this class removes rows where outliers are detected\n",
    "\n",
    "class CustomOutlierRemover:\n",
    "    def __init__(self, outlier_threshold, skip_features=[]):\n",
    "        self.outlier_threshold = outlier_threshold\n",
    "        self.skip_features = skip_features\n",
    "        \n",
    "    def __outliers_detect(self, X):\n",
    "        for column in X.select_dtypes(np.number).columns:\n",
    "            if column not in self.skip_features:\n",
    "                upper = np.percentile(X[column],75)\n",
    "                lower = np.percentile(X[column],25)\n",
    "                iqr = upper - lower\n",
    "                upper_limit = upper + self.outlier_threshold * iqr\n",
    "                lower_limit = lower - self.outlier_threshold * iqr\n",
    "                filtered = X[(X[column]>lower_limit) & (X[column]<upper_limit)]\n",
    "                if filtered.shape[0] != X.shape[0]:\n",
    "                    self.detected_outliers_.append({\n",
    "                        'column': column, \n",
    "                        'ul_ll': [upper_limit, lower_limit], \n",
    "                        'removed_elements': X.shape[0] - filtered.shape[0] \n",
    "                    })\n",
    "                    self.count_total_outliers_ += X.shape[0] - filtered.shape[0]\n",
    "        \n",
    "    def __outliers_remove(self, X):\n",
    "        for outlier in self.detected_outliers_:\n",
    "            filtered = X[(X[outlier['column']] > outlier['ul_ll'][1]) & (X[outlier['column']] < outlier['ul_ll'][0])]  \n",
    "            df_removed_outliers = filtered\n",
    "        return df_removed_outliers\n",
    "    \n",
    "    def clean(self, X):\n",
    "        self.detected_outliers_ = []\n",
    "        self.count_total_outliers_ = 0\n",
    "        self.__outliers_detect(X)\n",
    "        X_new = self.__outliers_remove(X)\n",
    "        return X_new"
   ]
  },
  {
   "cell_type": "code",
   "execution_count": 7,
   "id": "4c4003b4",
   "metadata": {},
   "outputs": [
    {
     "name": "stdout",
     "output_type": "stream",
     "text": [
      "df shape before outliers removal: (9134, 25)\n",
      "df shape after outliers removal: (8681, 25)\n",
      "[{'column': 'customer_lifetime_value', 'ul_ll': [16414.039911750002, -3457.6210762500014], 'removed_elements': 817}, {'column': 'monthly_premium_auto', 'ul_ll': [170.5, 6.5], 'removed_elements': 430}, {'column': 'total_claim_amount', 'ul_ll': [960.3997301249999, -140.62664687499995], 'removed_elements': 453}]\n",
      "removed lines: 1700\n"
     ]
    }
   ],
   "source": [
    "outliers_skip_features = ['number_of_open_complaints','number_of_policies', \\\n",
    "                          'effective_to_date_year', 'effective_to_date_month', 'effective_to_date_day']\n",
    "\n",
    "basicCleaner = CustomInitialDataCleaner(drop_features=['Customer'], date_features=['Effective To Date'])\n",
    "outliersCleaner = CustomOutlierRemover(outlier_threshold=1.5, skip_features=outliers_skip_features)\n",
    "\n",
    "df = basicCleaner.clean(df_initial)\n",
    "print(f'df shape before outliers removal: {df.shape}')\n",
    "df = outliersCleaner.clean(df.copy())\n",
    "print(f'df shape after outliers removal: {df.shape}')\n",
    "print(outliersCleaner.detected_outliers_)\n",
    "print(f'removed lines: {outliersCleaner.count_total_outliers_}')"
   ]
  },
  {
   "cell_type": "markdown",
   "id": "8ab71c9e",
   "metadata": {},
   "source": [
    "### Check Null Values"
   ]
  },
  {
   "cell_type": "code",
   "execution_count": 8,
   "id": "1fda0927",
   "metadata": {},
   "outputs": [
    {
     "data": {
      "text/plain": [
       "state                            0\n",
       "customer_lifetime_value          0\n",
       "response                         0\n",
       "coverage                         0\n",
       "education                        0\n",
       "employmentstatus                 0\n",
       "gender                           0\n",
       "income                           0\n",
       "location_code                    0\n",
       "marital_status                   0\n",
       "monthly_premium_auto             0\n",
       "months_since_last_claim          0\n",
       "months_since_policy_inception    0\n",
       "number_of_open_complaints        0\n",
       "number_of_policies               0\n",
       "policy_type                      0\n",
       "policy                           0\n",
       "renew_offer_type                 0\n",
       "sales_channel                    0\n",
       "total_claim_amount               0\n",
       "vehicle_class                    0\n",
       "vehicle_size                     0\n",
       "effective_to_date_year           0\n",
       "effective_to_date_month          0\n",
       "effective_to_date_day            0\n",
       "dtype: int64"
      ]
     },
     "execution_count": 8,
     "metadata": {},
     "output_type": "execute_result"
    }
   ],
   "source": [
    "df.isna().sum()"
   ]
  },
  {
   "cell_type": "markdown",
   "id": "258ea107",
   "metadata": {},
   "source": [
    "### Pipeline Setup"
   ]
  },
  {
   "cell_type": "markdown",
   "id": "18c58c38",
   "metadata": {},
   "source": [
    "#### Setup all parameters to define a custom pipeline which:\n",
    "<br>\n",
    "    0) since no null values found -> no step is worked in here to deal with them<br>\n",
    "    2) applies StandardScaler to numerical features<br>\n",
    "    3) applies OrdinalEncoder to selected categorcial features<br>\n",
    "    4) applies OneHotEncoder to selected categorical features<br>\n",
    "    5) outputs the prepared data set which can be then fed into a model<br>"
   ]
  },
  {
   "cell_type": "markdown",
   "id": "a9b4db0a",
   "metadata": {},
   "source": [
    "#### Define ordinal features hierarchy and split the features "
   ]
  },
  {
   "cell_type": "code",
   "execution_count": 10,
   "id": "e19a59b7",
   "metadata": {},
   "outputs": [],
   "source": [
    "# split features into numerical and remove target variable \n",
    "numerical = df.select_dtypes('number').drop('total_claim_amount', axis=1, inplace=False)\n",
    "numerical_features = numerical.columns\n",
    "\n",
    "# split features into categorical; then differentiate between ordinal categoricals and nominal ones\n",
    "categorical = df.select_dtypes('object')\n",
    "cat_ordinal_features = categorical[['coverage', 'location_code', 'employmentstatus', 'vehicle_size']].columns\n",
    "cat_onehot_features = categorical.loc[:, ~categorical.columns.isin(cat_ordinal_features)].columns\n",
    "\n",
    "# define order for the categorical features which will be handled by OerdinalEncoder\n",
    "predefined_order = [['Premium', 'Extended', 'Basic'], ['Urban', 'Suburban', 'Rural'], \\\n",
    "            ['Employed', 'Medical Leave','Unemployed', 'Retired', 'Disabled'], ['Large', 'Medsize', 'Small']]\n"
   ]
  },
  {
   "cell_type": "markdown",
   "id": "414761db",
   "metadata": {},
   "source": [
    "#### Define the pipelines and combine them into one data preparation pipeline"
   ]
  },
  {
   "cell_type": "code",
   "execution_count": 11,
   "id": "c3c34351",
   "metadata": {},
   "outputs": [
    {
     "data": {
      "text/html": [
       "<style>#sk-21c0f4b5-f5f3-403d-8475-92f68b41a8fe {color: black;background-color: white;}#sk-21c0f4b5-f5f3-403d-8475-92f68b41a8fe pre{padding: 0;}#sk-21c0f4b5-f5f3-403d-8475-92f68b41a8fe div.sk-toggleable {background-color: white;}#sk-21c0f4b5-f5f3-403d-8475-92f68b41a8fe label.sk-toggleable__label {cursor: pointer;display: block;width: 100%;margin-bottom: 0;padding: 0.3em;box-sizing: border-box;text-align: center;}#sk-21c0f4b5-f5f3-403d-8475-92f68b41a8fe label.sk-toggleable__label-arrow:before {content: \"▸\";float: left;margin-right: 0.25em;color: #696969;}#sk-21c0f4b5-f5f3-403d-8475-92f68b41a8fe label.sk-toggleable__label-arrow:hover:before {color: black;}#sk-21c0f4b5-f5f3-403d-8475-92f68b41a8fe div.sk-estimator:hover label.sk-toggleable__label-arrow:before {color: black;}#sk-21c0f4b5-f5f3-403d-8475-92f68b41a8fe div.sk-toggleable__content {max-height: 0;max-width: 0;overflow: hidden;text-align: left;background-color: #f0f8ff;}#sk-21c0f4b5-f5f3-403d-8475-92f68b41a8fe div.sk-toggleable__content pre {margin: 0.2em;color: black;border-radius: 0.25em;background-color: #f0f8ff;}#sk-21c0f4b5-f5f3-403d-8475-92f68b41a8fe input.sk-toggleable__control:checked~div.sk-toggleable__content {max-height: 200px;max-width: 100%;overflow: auto;}#sk-21c0f4b5-f5f3-403d-8475-92f68b41a8fe input.sk-toggleable__control:checked~label.sk-toggleable__label-arrow:before {content: \"▾\";}#sk-21c0f4b5-f5f3-403d-8475-92f68b41a8fe div.sk-estimator input.sk-toggleable__control:checked~label.sk-toggleable__label {background-color: #d4ebff;}#sk-21c0f4b5-f5f3-403d-8475-92f68b41a8fe div.sk-label input.sk-toggleable__control:checked~label.sk-toggleable__label {background-color: #d4ebff;}#sk-21c0f4b5-f5f3-403d-8475-92f68b41a8fe input.sk-hidden--visually {border: 0;clip: rect(1px 1px 1px 1px);clip: rect(1px, 1px, 1px, 1px);height: 1px;margin: -1px;overflow: hidden;padding: 0;position: absolute;width: 1px;}#sk-21c0f4b5-f5f3-403d-8475-92f68b41a8fe div.sk-estimator {font-family: monospace;background-color: #f0f8ff;border: 1px dotted black;border-radius: 0.25em;box-sizing: border-box;margin-bottom: 0.5em;}#sk-21c0f4b5-f5f3-403d-8475-92f68b41a8fe div.sk-estimator:hover {background-color: #d4ebff;}#sk-21c0f4b5-f5f3-403d-8475-92f68b41a8fe div.sk-parallel-item::after {content: \"\";width: 100%;border-bottom: 1px solid gray;flex-grow: 1;}#sk-21c0f4b5-f5f3-403d-8475-92f68b41a8fe div.sk-label:hover label.sk-toggleable__label {background-color: #d4ebff;}#sk-21c0f4b5-f5f3-403d-8475-92f68b41a8fe div.sk-serial::before {content: \"\";position: absolute;border-left: 1px solid gray;box-sizing: border-box;top: 2em;bottom: 0;left: 50%;}#sk-21c0f4b5-f5f3-403d-8475-92f68b41a8fe div.sk-serial {display: flex;flex-direction: column;align-items: center;background-color: white;padding-right: 0.2em;padding-left: 0.2em;}#sk-21c0f4b5-f5f3-403d-8475-92f68b41a8fe div.sk-item {z-index: 1;}#sk-21c0f4b5-f5f3-403d-8475-92f68b41a8fe div.sk-parallel {display: flex;align-items: stretch;justify-content: center;background-color: white;}#sk-21c0f4b5-f5f3-403d-8475-92f68b41a8fe div.sk-parallel::before {content: \"\";position: absolute;border-left: 1px solid gray;box-sizing: border-box;top: 2em;bottom: 0;left: 50%;}#sk-21c0f4b5-f5f3-403d-8475-92f68b41a8fe div.sk-parallel-item {display: flex;flex-direction: column;position: relative;background-color: white;}#sk-21c0f4b5-f5f3-403d-8475-92f68b41a8fe div.sk-parallel-item:first-child::after {align-self: flex-end;width: 50%;}#sk-21c0f4b5-f5f3-403d-8475-92f68b41a8fe div.sk-parallel-item:last-child::after {align-self: flex-start;width: 50%;}#sk-21c0f4b5-f5f3-403d-8475-92f68b41a8fe div.sk-parallel-item:only-child::after {width: 0;}#sk-21c0f4b5-f5f3-403d-8475-92f68b41a8fe div.sk-dashed-wrapped {border: 1px dashed gray;margin: 0 0.4em 0.5em 0.4em;box-sizing: border-box;padding-bottom: 0.4em;background-color: white;position: relative;}#sk-21c0f4b5-f5f3-403d-8475-92f68b41a8fe div.sk-label label {font-family: monospace;font-weight: bold;background-color: white;display: inline-block;line-height: 1.2em;}#sk-21c0f4b5-f5f3-403d-8475-92f68b41a8fe div.sk-label-container {position: relative;z-index: 2;text-align: center;}#sk-21c0f4b5-f5f3-403d-8475-92f68b41a8fe div.sk-container {/* jupyter's `normalize.less` sets `[hidden] { display: none; }` but bootstrap.min.css set `[hidden] { display: none !important; }` so we also need the `!important` here to be able to override the default hidden behavior on the sphinx rendered scikit-learn.org. See: https://github.com/scikit-learn/scikit-learn/issues/21755 */display: inline-block !important;position: relative;}#sk-21c0f4b5-f5f3-403d-8475-92f68b41a8fe div.sk-text-repr-fallback {display: none;}</style><div id=\"sk-21c0f4b5-f5f3-403d-8475-92f68b41a8fe\" class=\"sk-top-container\"><div class=\"sk-text-repr-fallback\"><pre>ColumnTransformer(transformers=[(&#x27;numerical&#x27;,\n",
       "                                 Pipeline(steps=[(&#x27;standardize&#x27;,\n",
       "                                                  StandardScaler())]),\n",
       "                                 Index([&#x27;customer_lifetime_value&#x27;, &#x27;income&#x27;, &#x27;monthly_premium_auto&#x27;,\n",
       "       &#x27;months_since_last_claim&#x27;, &#x27;months_since_policy_inception&#x27;,\n",
       "       &#x27;number_of_open_complaints&#x27;, &#x27;number_of_policies&#x27;,\n",
       "       &#x27;effective_to_date_year&#x27;, &#x27;effective_to_date_month&#x27;,\n",
       "       &#x27;effective_to_date_day&#x27;],\n",
       "      dtype=...\n",
       "                                                                             [&#x27;Large&#x27;,\n",
       "                                                                              &#x27;Medsize&#x27;,\n",
       "                                                                              &#x27;Small&#x27;]]))]),\n",
       "                                 Index([&#x27;coverage&#x27;, &#x27;location_code&#x27;, &#x27;employmentstatus&#x27;, &#x27;vehicle_size&#x27;], dtype=&#x27;object&#x27;)),\n",
       "                                (&#x27;cat_onehot&#x27;,\n",
       "                                 Pipeline(steps=[(&#x27;one_hot_encoding&#x27;,\n",
       "                                                  OneHotEncoder(sparse=False))]),\n",
       "                                 Index([&#x27;state&#x27;, &#x27;response&#x27;, &#x27;education&#x27;, &#x27;gender&#x27;, &#x27;marital_status&#x27;,\n",
       "       &#x27;policy_type&#x27;, &#x27;policy&#x27;, &#x27;renew_offer_type&#x27;, &#x27;sales_channel&#x27;,\n",
       "       &#x27;vehicle_class&#x27;],\n",
       "      dtype=&#x27;object&#x27;))])</pre><b>Please rerun this cell to show the HTML repr or trust the notebook.</b></div><div class=\"sk-container\" hidden><div class=\"sk-item sk-dashed-wrapped\"><div class=\"sk-label-container\"><div class=\"sk-label sk-toggleable\"><input class=\"sk-toggleable__control sk-hidden--visually\" id=\"9108fbae-3fb4-4a07-9317-174f582e0537\" type=\"checkbox\" ><label for=\"9108fbae-3fb4-4a07-9317-174f582e0537\" class=\"sk-toggleable__label sk-toggleable__label-arrow\">ColumnTransformer</label><div class=\"sk-toggleable__content\"><pre>ColumnTransformer(transformers=[(&#x27;numerical&#x27;,\n",
       "                                 Pipeline(steps=[(&#x27;standardize&#x27;,\n",
       "                                                  StandardScaler())]),\n",
       "                                 Index([&#x27;customer_lifetime_value&#x27;, &#x27;income&#x27;, &#x27;monthly_premium_auto&#x27;,\n",
       "       &#x27;months_since_last_claim&#x27;, &#x27;months_since_policy_inception&#x27;,\n",
       "       &#x27;number_of_open_complaints&#x27;, &#x27;number_of_policies&#x27;,\n",
       "       &#x27;effective_to_date_year&#x27;, &#x27;effective_to_date_month&#x27;,\n",
       "       &#x27;effective_to_date_day&#x27;],\n",
       "      dtype=...\n",
       "                                                                             [&#x27;Large&#x27;,\n",
       "                                                                              &#x27;Medsize&#x27;,\n",
       "                                                                              &#x27;Small&#x27;]]))]),\n",
       "                                 Index([&#x27;coverage&#x27;, &#x27;location_code&#x27;, &#x27;employmentstatus&#x27;, &#x27;vehicle_size&#x27;], dtype=&#x27;object&#x27;)),\n",
       "                                (&#x27;cat_onehot&#x27;,\n",
       "                                 Pipeline(steps=[(&#x27;one_hot_encoding&#x27;,\n",
       "                                                  OneHotEncoder(sparse=False))]),\n",
       "                                 Index([&#x27;state&#x27;, &#x27;response&#x27;, &#x27;education&#x27;, &#x27;gender&#x27;, &#x27;marital_status&#x27;,\n",
       "       &#x27;policy_type&#x27;, &#x27;policy&#x27;, &#x27;renew_offer_type&#x27;, &#x27;sales_channel&#x27;,\n",
       "       &#x27;vehicle_class&#x27;],\n",
       "      dtype=&#x27;object&#x27;))])</pre></div></div></div><div class=\"sk-parallel\"><div class=\"sk-parallel-item\"><div class=\"sk-item\"><div class=\"sk-label-container\"><div class=\"sk-label sk-toggleable\"><input class=\"sk-toggleable__control sk-hidden--visually\" id=\"92f1ea69-eaef-43b9-a58b-21a4d1003166\" type=\"checkbox\" ><label for=\"92f1ea69-eaef-43b9-a58b-21a4d1003166\" class=\"sk-toggleable__label sk-toggleable__label-arrow\">numerical</label><div class=\"sk-toggleable__content\"><pre>Index([&#x27;customer_lifetime_value&#x27;, &#x27;income&#x27;, &#x27;monthly_premium_auto&#x27;,\n",
       "       &#x27;months_since_last_claim&#x27;, &#x27;months_since_policy_inception&#x27;,\n",
       "       &#x27;number_of_open_complaints&#x27;, &#x27;number_of_policies&#x27;,\n",
       "       &#x27;effective_to_date_year&#x27;, &#x27;effective_to_date_month&#x27;,\n",
       "       &#x27;effective_to_date_day&#x27;],\n",
       "      dtype=&#x27;object&#x27;)</pre></div></div></div><div class=\"sk-serial\"><div class=\"sk-item\"><div class=\"sk-serial\"><div class=\"sk-item\"><div class=\"sk-estimator sk-toggleable\"><input class=\"sk-toggleable__control sk-hidden--visually\" id=\"70422427-a0a8-4b99-a597-c725dffc1493\" type=\"checkbox\" ><label for=\"70422427-a0a8-4b99-a597-c725dffc1493\" class=\"sk-toggleable__label sk-toggleable__label-arrow\">StandardScaler</label><div class=\"sk-toggleable__content\"><pre>StandardScaler()</pre></div></div></div></div></div></div></div></div><div class=\"sk-parallel-item\"><div class=\"sk-item\"><div class=\"sk-label-container\"><div class=\"sk-label sk-toggleable\"><input class=\"sk-toggleable__control sk-hidden--visually\" id=\"07c3abd4-2475-4a0c-8f46-025204af7020\" type=\"checkbox\" ><label for=\"07c3abd4-2475-4a0c-8f46-025204af7020\" class=\"sk-toggleable__label sk-toggleable__label-arrow\">cat_ordinal</label><div class=\"sk-toggleable__content\"><pre>Index([&#x27;coverage&#x27;, &#x27;location_code&#x27;, &#x27;employmentstatus&#x27;, &#x27;vehicle_size&#x27;], dtype=&#x27;object&#x27;)</pre></div></div></div><div class=\"sk-serial\"><div class=\"sk-item\"><div class=\"sk-serial\"><div class=\"sk-item\"><div class=\"sk-estimator sk-toggleable\"><input class=\"sk-toggleable__control sk-hidden--visually\" id=\"70cc89be-7b79-4f14-bebd-8ff88ff2840c\" type=\"checkbox\" ><label for=\"70cc89be-7b79-4f14-bebd-8ff88ff2840c\" class=\"sk-toggleable__label sk-toggleable__label-arrow\">OrdinalEncoder</label><div class=\"sk-toggleable__content\"><pre>OrdinalEncoder(categories=[[&#x27;Premium&#x27;, &#x27;Extended&#x27;, &#x27;Basic&#x27;],\n",
       "                           [&#x27;Urban&#x27;, &#x27;Suburban&#x27;, &#x27;Rural&#x27;],\n",
       "                           [&#x27;Employed&#x27;, &#x27;Medical Leave&#x27;, &#x27;Unemployed&#x27;,\n",
       "                            &#x27;Retired&#x27;, &#x27;Disabled&#x27;],\n",
       "                           [&#x27;Large&#x27;, &#x27;Medsize&#x27;, &#x27;Small&#x27;]])</pre></div></div></div></div></div></div></div></div><div class=\"sk-parallel-item\"><div class=\"sk-item\"><div class=\"sk-label-container\"><div class=\"sk-label sk-toggleable\"><input class=\"sk-toggleable__control sk-hidden--visually\" id=\"b7827a3f-1382-4d5b-94fa-f895e09f53f2\" type=\"checkbox\" ><label for=\"b7827a3f-1382-4d5b-94fa-f895e09f53f2\" class=\"sk-toggleable__label sk-toggleable__label-arrow\">cat_onehot</label><div class=\"sk-toggleable__content\"><pre>Index([&#x27;state&#x27;, &#x27;response&#x27;, &#x27;education&#x27;, &#x27;gender&#x27;, &#x27;marital_status&#x27;,\n",
       "       &#x27;policy_type&#x27;, &#x27;policy&#x27;, &#x27;renew_offer_type&#x27;, &#x27;sales_channel&#x27;,\n",
       "       &#x27;vehicle_class&#x27;],\n",
       "      dtype=&#x27;object&#x27;)</pre></div></div></div><div class=\"sk-serial\"><div class=\"sk-item\"><div class=\"sk-serial\"><div class=\"sk-item\"><div class=\"sk-estimator sk-toggleable\"><input class=\"sk-toggleable__control sk-hidden--visually\" id=\"3af349c8-f96d-4f99-813a-1459713c1a43\" type=\"checkbox\" ><label for=\"3af349c8-f96d-4f99-813a-1459713c1a43\" class=\"sk-toggleable__label sk-toggleable__label-arrow\">OneHotEncoder</label><div class=\"sk-toggleable__content\"><pre>OneHotEncoder(sparse=False)</pre></div></div></div></div></div></div></div></div></div></div></div></div>"
      ],
      "text/plain": [
       "ColumnTransformer(transformers=[('numerical',\n",
       "                                 Pipeline(steps=[('standardize',\n",
       "                                                  StandardScaler())]),\n",
       "                                 Index(['customer_lifetime_value', 'income', 'monthly_premium_auto',\n",
       "       'months_since_last_claim', 'months_since_policy_inception',\n",
       "       'number_of_open_complaints', 'number_of_policies',\n",
       "       'effective_to_date_year', 'effective_to_date_month',\n",
       "       'effective_to_date_day'],\n",
       "      dtype=...\n",
       "                                                                             ['Large',\n",
       "                                                                              'Medsize',\n",
       "                                                                              'Small']]))]),\n",
       "                                 Index(['coverage', 'location_code', 'employmentstatus', 'vehicle_size'], dtype='object')),\n",
       "                                ('cat_onehot',\n",
       "                                 Pipeline(steps=[('one_hot_encoding',\n",
       "                                                  OneHotEncoder(sparse=False))]),\n",
       "                                 Index(['state', 'response', 'education', 'gender', 'marital_status',\n",
       "       'policy_type', 'policy', 'renew_offer_type', 'sales_channel',\n",
       "       'vehicle_class'],\n",
       "      dtype='object'))])"
      ]
     },
     "execution_count": 11,
     "metadata": {},
     "output_type": "execute_result"
    }
   ],
   "source": [
    "numerical_pipeline = Pipeline([\n",
    "    ('standardize', StandardScaler()) \n",
    "])\n",
    "\n",
    "cat_onehot_pipeline = Pipeline([\n",
    "    ('one_hot_encoding', OneHotEncoder(sparse=False))\n",
    "])\n",
    "\n",
    "cat_ordinal_pipeline = Pipeline([\n",
    "    ('ordinal_encoding', OrdinalEncoder(categories=predefined_order))\n",
    "])\n",
    "\n",
    "# final composite pipeline which will prepare the data for a model\n",
    "data_preprocessing_pipeline = ColumnTransformer([\n",
    "        ('numerical', numerical_pipeline, numerical_features),\n",
    "        ('cat_ordinal', cat_ordinal_pipeline, cat_ordinal_features),\n",
    "        ('cat_onehot', cat_onehot_pipeline, cat_onehot_features)\n",
    "    ])\n",
    "\n",
    "data_preprocessing_pipeline"
   ]
  },
  {
   "cell_type": "markdown",
   "id": "70279e3f",
   "metadata": {},
   "source": [
    "#### Split data train / test and apply preprocessing pipeline"
   ]
  },
  {
   "cell_type": "code",
   "execution_count": 12,
   "id": "e4c86d6d",
   "metadata": {},
   "outputs": [],
   "source": [
    "# X-y split\n",
    "y = df['total_claim_amount']\n",
    "X = df.drop('total_claim_amount', axis=1, inplace=False)\n",
    "\n",
    "# train-test split\n",
    "X_train, X_test, y_train, y_test = train_test_split(X, y, test_size=0.3, random_state=42)"
   ]
  },
  {
   "cell_type": "code",
   "execution_count": 13,
   "id": "9556a937",
   "metadata": {},
   "outputs": [
    {
     "data": {
      "text/html": [
       "<style>#sk-d94bcbb4-0aaf-4d9e-b8fc-21899e4d070e {color: black;background-color: white;}#sk-d94bcbb4-0aaf-4d9e-b8fc-21899e4d070e pre{padding: 0;}#sk-d94bcbb4-0aaf-4d9e-b8fc-21899e4d070e div.sk-toggleable {background-color: white;}#sk-d94bcbb4-0aaf-4d9e-b8fc-21899e4d070e label.sk-toggleable__label {cursor: pointer;display: block;width: 100%;margin-bottom: 0;padding: 0.3em;box-sizing: border-box;text-align: center;}#sk-d94bcbb4-0aaf-4d9e-b8fc-21899e4d070e label.sk-toggleable__label-arrow:before {content: \"▸\";float: left;margin-right: 0.25em;color: #696969;}#sk-d94bcbb4-0aaf-4d9e-b8fc-21899e4d070e label.sk-toggleable__label-arrow:hover:before {color: black;}#sk-d94bcbb4-0aaf-4d9e-b8fc-21899e4d070e div.sk-estimator:hover label.sk-toggleable__label-arrow:before {color: black;}#sk-d94bcbb4-0aaf-4d9e-b8fc-21899e4d070e div.sk-toggleable__content {max-height: 0;max-width: 0;overflow: hidden;text-align: left;background-color: #f0f8ff;}#sk-d94bcbb4-0aaf-4d9e-b8fc-21899e4d070e div.sk-toggleable__content pre {margin: 0.2em;color: black;border-radius: 0.25em;background-color: #f0f8ff;}#sk-d94bcbb4-0aaf-4d9e-b8fc-21899e4d070e input.sk-toggleable__control:checked~div.sk-toggleable__content {max-height: 200px;max-width: 100%;overflow: auto;}#sk-d94bcbb4-0aaf-4d9e-b8fc-21899e4d070e input.sk-toggleable__control:checked~label.sk-toggleable__label-arrow:before {content: \"▾\";}#sk-d94bcbb4-0aaf-4d9e-b8fc-21899e4d070e div.sk-estimator input.sk-toggleable__control:checked~label.sk-toggleable__label {background-color: #d4ebff;}#sk-d94bcbb4-0aaf-4d9e-b8fc-21899e4d070e div.sk-label input.sk-toggleable__control:checked~label.sk-toggleable__label {background-color: #d4ebff;}#sk-d94bcbb4-0aaf-4d9e-b8fc-21899e4d070e input.sk-hidden--visually {border: 0;clip: rect(1px 1px 1px 1px);clip: rect(1px, 1px, 1px, 1px);height: 1px;margin: -1px;overflow: hidden;padding: 0;position: absolute;width: 1px;}#sk-d94bcbb4-0aaf-4d9e-b8fc-21899e4d070e div.sk-estimator {font-family: monospace;background-color: #f0f8ff;border: 1px dotted black;border-radius: 0.25em;box-sizing: border-box;margin-bottom: 0.5em;}#sk-d94bcbb4-0aaf-4d9e-b8fc-21899e4d070e div.sk-estimator:hover {background-color: #d4ebff;}#sk-d94bcbb4-0aaf-4d9e-b8fc-21899e4d070e div.sk-parallel-item::after {content: \"\";width: 100%;border-bottom: 1px solid gray;flex-grow: 1;}#sk-d94bcbb4-0aaf-4d9e-b8fc-21899e4d070e div.sk-label:hover label.sk-toggleable__label {background-color: #d4ebff;}#sk-d94bcbb4-0aaf-4d9e-b8fc-21899e4d070e div.sk-serial::before {content: \"\";position: absolute;border-left: 1px solid gray;box-sizing: border-box;top: 2em;bottom: 0;left: 50%;}#sk-d94bcbb4-0aaf-4d9e-b8fc-21899e4d070e div.sk-serial {display: flex;flex-direction: column;align-items: center;background-color: white;padding-right: 0.2em;padding-left: 0.2em;}#sk-d94bcbb4-0aaf-4d9e-b8fc-21899e4d070e div.sk-item {z-index: 1;}#sk-d94bcbb4-0aaf-4d9e-b8fc-21899e4d070e div.sk-parallel {display: flex;align-items: stretch;justify-content: center;background-color: white;}#sk-d94bcbb4-0aaf-4d9e-b8fc-21899e4d070e div.sk-parallel::before {content: \"\";position: absolute;border-left: 1px solid gray;box-sizing: border-box;top: 2em;bottom: 0;left: 50%;}#sk-d94bcbb4-0aaf-4d9e-b8fc-21899e4d070e div.sk-parallel-item {display: flex;flex-direction: column;position: relative;background-color: white;}#sk-d94bcbb4-0aaf-4d9e-b8fc-21899e4d070e div.sk-parallel-item:first-child::after {align-self: flex-end;width: 50%;}#sk-d94bcbb4-0aaf-4d9e-b8fc-21899e4d070e div.sk-parallel-item:last-child::after {align-self: flex-start;width: 50%;}#sk-d94bcbb4-0aaf-4d9e-b8fc-21899e4d070e div.sk-parallel-item:only-child::after {width: 0;}#sk-d94bcbb4-0aaf-4d9e-b8fc-21899e4d070e div.sk-dashed-wrapped {border: 1px dashed gray;margin: 0 0.4em 0.5em 0.4em;box-sizing: border-box;padding-bottom: 0.4em;background-color: white;position: relative;}#sk-d94bcbb4-0aaf-4d9e-b8fc-21899e4d070e div.sk-label label {font-family: monospace;font-weight: bold;background-color: white;display: inline-block;line-height: 1.2em;}#sk-d94bcbb4-0aaf-4d9e-b8fc-21899e4d070e div.sk-label-container {position: relative;z-index: 2;text-align: center;}#sk-d94bcbb4-0aaf-4d9e-b8fc-21899e4d070e div.sk-container {/* jupyter's `normalize.less` sets `[hidden] { display: none; }` but bootstrap.min.css set `[hidden] { display: none !important; }` so we also need the `!important` here to be able to override the default hidden behavior on the sphinx rendered scikit-learn.org. See: https://github.com/scikit-learn/scikit-learn/issues/21755 */display: inline-block !important;position: relative;}#sk-d94bcbb4-0aaf-4d9e-b8fc-21899e4d070e div.sk-text-repr-fallback {display: none;}</style><div id=\"sk-d94bcbb4-0aaf-4d9e-b8fc-21899e4d070e\" class=\"sk-top-container\"><div class=\"sk-text-repr-fallback\"><pre>ColumnTransformer(transformers=[(&#x27;numerical&#x27;,\n",
       "                                 Pipeline(steps=[(&#x27;standardize&#x27;,\n",
       "                                                  StandardScaler())]),\n",
       "                                 Index([&#x27;customer_lifetime_value&#x27;, &#x27;income&#x27;, &#x27;monthly_premium_auto&#x27;,\n",
       "       &#x27;months_since_last_claim&#x27;, &#x27;months_since_policy_inception&#x27;,\n",
       "       &#x27;number_of_open_complaints&#x27;, &#x27;number_of_policies&#x27;,\n",
       "       &#x27;effective_to_date_year&#x27;, &#x27;effective_to_date_month&#x27;,\n",
       "       &#x27;effective_to_date_day&#x27;],\n",
       "      dtype=...\n",
       "                                                                             [&#x27;Large&#x27;,\n",
       "                                                                              &#x27;Medsize&#x27;,\n",
       "                                                                              &#x27;Small&#x27;]]))]),\n",
       "                                 Index([&#x27;coverage&#x27;, &#x27;location_code&#x27;, &#x27;employmentstatus&#x27;, &#x27;vehicle_size&#x27;], dtype=&#x27;object&#x27;)),\n",
       "                                (&#x27;cat_onehot&#x27;,\n",
       "                                 Pipeline(steps=[(&#x27;one_hot_encoding&#x27;,\n",
       "                                                  OneHotEncoder(sparse=False))]),\n",
       "                                 Index([&#x27;state&#x27;, &#x27;response&#x27;, &#x27;education&#x27;, &#x27;gender&#x27;, &#x27;marital_status&#x27;,\n",
       "       &#x27;policy_type&#x27;, &#x27;policy&#x27;, &#x27;renew_offer_type&#x27;, &#x27;sales_channel&#x27;,\n",
       "       &#x27;vehicle_class&#x27;],\n",
       "      dtype=&#x27;object&#x27;))])</pre><b>Please rerun this cell to show the HTML repr or trust the notebook.</b></div><div class=\"sk-container\" hidden><div class=\"sk-item sk-dashed-wrapped\"><div class=\"sk-label-container\"><div class=\"sk-label sk-toggleable\"><input class=\"sk-toggleable__control sk-hidden--visually\" id=\"d85ace9c-03ef-43af-a27e-2659105c6c52\" type=\"checkbox\" ><label for=\"d85ace9c-03ef-43af-a27e-2659105c6c52\" class=\"sk-toggleable__label sk-toggleable__label-arrow\">ColumnTransformer</label><div class=\"sk-toggleable__content\"><pre>ColumnTransformer(transformers=[(&#x27;numerical&#x27;,\n",
       "                                 Pipeline(steps=[(&#x27;standardize&#x27;,\n",
       "                                                  StandardScaler())]),\n",
       "                                 Index([&#x27;customer_lifetime_value&#x27;, &#x27;income&#x27;, &#x27;monthly_premium_auto&#x27;,\n",
       "       &#x27;months_since_last_claim&#x27;, &#x27;months_since_policy_inception&#x27;,\n",
       "       &#x27;number_of_open_complaints&#x27;, &#x27;number_of_policies&#x27;,\n",
       "       &#x27;effective_to_date_year&#x27;, &#x27;effective_to_date_month&#x27;,\n",
       "       &#x27;effective_to_date_day&#x27;],\n",
       "      dtype=...\n",
       "                                                                             [&#x27;Large&#x27;,\n",
       "                                                                              &#x27;Medsize&#x27;,\n",
       "                                                                              &#x27;Small&#x27;]]))]),\n",
       "                                 Index([&#x27;coverage&#x27;, &#x27;location_code&#x27;, &#x27;employmentstatus&#x27;, &#x27;vehicle_size&#x27;], dtype=&#x27;object&#x27;)),\n",
       "                                (&#x27;cat_onehot&#x27;,\n",
       "                                 Pipeline(steps=[(&#x27;one_hot_encoding&#x27;,\n",
       "                                                  OneHotEncoder(sparse=False))]),\n",
       "                                 Index([&#x27;state&#x27;, &#x27;response&#x27;, &#x27;education&#x27;, &#x27;gender&#x27;, &#x27;marital_status&#x27;,\n",
       "       &#x27;policy_type&#x27;, &#x27;policy&#x27;, &#x27;renew_offer_type&#x27;, &#x27;sales_channel&#x27;,\n",
       "       &#x27;vehicle_class&#x27;],\n",
       "      dtype=&#x27;object&#x27;))])</pre></div></div></div><div class=\"sk-parallel\"><div class=\"sk-parallel-item\"><div class=\"sk-item\"><div class=\"sk-label-container\"><div class=\"sk-label sk-toggleable\"><input class=\"sk-toggleable__control sk-hidden--visually\" id=\"203c191a-7dfb-42e2-bbf1-baf6877f84f0\" type=\"checkbox\" ><label for=\"203c191a-7dfb-42e2-bbf1-baf6877f84f0\" class=\"sk-toggleable__label sk-toggleable__label-arrow\">numerical</label><div class=\"sk-toggleable__content\"><pre>Index([&#x27;customer_lifetime_value&#x27;, &#x27;income&#x27;, &#x27;monthly_premium_auto&#x27;,\n",
       "       &#x27;months_since_last_claim&#x27;, &#x27;months_since_policy_inception&#x27;,\n",
       "       &#x27;number_of_open_complaints&#x27;, &#x27;number_of_policies&#x27;,\n",
       "       &#x27;effective_to_date_year&#x27;, &#x27;effective_to_date_month&#x27;,\n",
       "       &#x27;effective_to_date_day&#x27;],\n",
       "      dtype=&#x27;object&#x27;)</pre></div></div></div><div class=\"sk-serial\"><div class=\"sk-item\"><div class=\"sk-serial\"><div class=\"sk-item\"><div class=\"sk-estimator sk-toggleable\"><input class=\"sk-toggleable__control sk-hidden--visually\" id=\"79f7c350-ecce-4aed-8893-f7b12824ce29\" type=\"checkbox\" ><label for=\"79f7c350-ecce-4aed-8893-f7b12824ce29\" class=\"sk-toggleable__label sk-toggleable__label-arrow\">StandardScaler</label><div class=\"sk-toggleable__content\"><pre>StandardScaler()</pre></div></div></div></div></div></div></div></div><div class=\"sk-parallel-item\"><div class=\"sk-item\"><div class=\"sk-label-container\"><div class=\"sk-label sk-toggleable\"><input class=\"sk-toggleable__control sk-hidden--visually\" id=\"e18a54e2-daf6-4607-82b6-018c7cee7850\" type=\"checkbox\" ><label for=\"e18a54e2-daf6-4607-82b6-018c7cee7850\" class=\"sk-toggleable__label sk-toggleable__label-arrow\">cat_ordinal</label><div class=\"sk-toggleable__content\"><pre>Index([&#x27;coverage&#x27;, &#x27;location_code&#x27;, &#x27;employmentstatus&#x27;, &#x27;vehicle_size&#x27;], dtype=&#x27;object&#x27;)</pre></div></div></div><div class=\"sk-serial\"><div class=\"sk-item\"><div class=\"sk-serial\"><div class=\"sk-item\"><div class=\"sk-estimator sk-toggleable\"><input class=\"sk-toggleable__control sk-hidden--visually\" id=\"f7c6389c-02d5-4391-840d-208cce412434\" type=\"checkbox\" ><label for=\"f7c6389c-02d5-4391-840d-208cce412434\" class=\"sk-toggleable__label sk-toggleable__label-arrow\">OrdinalEncoder</label><div class=\"sk-toggleable__content\"><pre>OrdinalEncoder(categories=[[&#x27;Premium&#x27;, &#x27;Extended&#x27;, &#x27;Basic&#x27;],\n",
       "                           [&#x27;Urban&#x27;, &#x27;Suburban&#x27;, &#x27;Rural&#x27;],\n",
       "                           [&#x27;Employed&#x27;, &#x27;Medical Leave&#x27;, &#x27;Unemployed&#x27;,\n",
       "                            &#x27;Retired&#x27;, &#x27;Disabled&#x27;],\n",
       "                           [&#x27;Large&#x27;, &#x27;Medsize&#x27;, &#x27;Small&#x27;]])</pre></div></div></div></div></div></div></div></div><div class=\"sk-parallel-item\"><div class=\"sk-item\"><div class=\"sk-label-container\"><div class=\"sk-label sk-toggleable\"><input class=\"sk-toggleable__control sk-hidden--visually\" id=\"210bb027-9320-4d89-81ad-0af59728c95c\" type=\"checkbox\" ><label for=\"210bb027-9320-4d89-81ad-0af59728c95c\" class=\"sk-toggleable__label sk-toggleable__label-arrow\">cat_onehot</label><div class=\"sk-toggleable__content\"><pre>Index([&#x27;state&#x27;, &#x27;response&#x27;, &#x27;education&#x27;, &#x27;gender&#x27;, &#x27;marital_status&#x27;,\n",
       "       &#x27;policy_type&#x27;, &#x27;policy&#x27;, &#x27;renew_offer_type&#x27;, &#x27;sales_channel&#x27;,\n",
       "       &#x27;vehicle_class&#x27;],\n",
       "      dtype=&#x27;object&#x27;)</pre></div></div></div><div class=\"sk-serial\"><div class=\"sk-item\"><div class=\"sk-serial\"><div class=\"sk-item\"><div class=\"sk-estimator sk-toggleable\"><input class=\"sk-toggleable__control sk-hidden--visually\" id=\"afc000c1-68bc-4ea6-9e24-a94c32b3607f\" type=\"checkbox\" ><label for=\"afc000c1-68bc-4ea6-9e24-a94c32b3607f\" class=\"sk-toggleable__label sk-toggleable__label-arrow\">OneHotEncoder</label><div class=\"sk-toggleable__content\"><pre>OneHotEncoder(sparse=False)</pre></div></div></div></div></div></div></div></div></div></div></div></div>"
      ],
      "text/plain": [
       "ColumnTransformer(transformers=[('numerical',\n",
       "                                 Pipeline(steps=[('standardize',\n",
       "                                                  StandardScaler())]),\n",
       "                                 Index(['customer_lifetime_value', 'income', 'monthly_premium_auto',\n",
       "       'months_since_last_claim', 'months_since_policy_inception',\n",
       "       'number_of_open_complaints', 'number_of_policies',\n",
       "       'effective_to_date_year', 'effective_to_date_month',\n",
       "       'effective_to_date_day'],\n",
       "      dtype=...\n",
       "                                                                             ['Large',\n",
       "                                                                              'Medsize',\n",
       "                                                                              'Small']]))]),\n",
       "                                 Index(['coverage', 'location_code', 'employmentstatus', 'vehicle_size'], dtype='object')),\n",
       "                                ('cat_onehot',\n",
       "                                 Pipeline(steps=[('one_hot_encoding',\n",
       "                                                  OneHotEncoder(sparse=False))]),\n",
       "                                 Index(['state', 'response', 'education', 'gender', 'marital_status',\n",
       "       'policy_type', 'policy', 'renew_offer_type', 'sales_channel',\n",
       "       'vehicle_class'],\n",
       "      dtype='object'))])"
      ]
     },
     "execution_count": 13,
     "metadata": {},
     "output_type": "execute_result"
    }
   ],
   "source": [
    "# Fit the pipeline only on X_train to avoid data leakage\n",
    "data_preprocessing_pipeline.fit(X_train)"
   ]
  },
  {
   "cell_type": "code",
   "execution_count": 14,
   "id": "991ecffb",
   "metadata": {},
   "outputs": [],
   "source": [
    "X_train_prepared = data_preprocessing_pipeline.transform(X_train)\n",
    "X_test_prepared = data_preprocessing_pipeline.transform(X_test)"
   ]
  },
  {
   "cell_type": "code",
   "execution_count": 15,
   "id": "3e69f6e3",
   "metadata": {},
   "outputs": [
    {
     "data": {
      "text/plain": [
       "array([[ 2.46956407,  1.60016881, -0.88635949, ...,  0.        ,\n",
       "         0.        ,  1.        ],\n",
       "       [-0.47115337, -1.27566083, -0.40654095, ...,  0.        ,\n",
       "         0.        ,  0.        ],\n",
       "       [ 0.00337613, -0.43466996, -0.84945037, ...,  0.        ,\n",
       "         0.        ,  0.        ],\n",
       "       ...,\n",
       "       [-0.7686992 ,  1.48025528, -0.7018139 , ...,  0.        ,\n",
       "         0.        ,  0.        ],\n",
       "       [ 0.96409364,  1.76620548,  0.88527822, ...,  0.        ,\n",
       "         0.        ,  1.        ],\n",
       "       [-0.58505871,  1.21861367,  0.44236879, ...,  0.        ,\n",
       "         0.        ,  0.        ]])"
      ]
     },
     "execution_count": 15,
     "metadata": {},
     "output_type": "execute_result"
    }
   ],
   "source": [
    "X_train_prepared"
   ]
  },
  {
   "cell_type": "code",
   "execution_count": 16,
   "id": "d6693bff",
   "metadata": {},
   "outputs": [
    {
     "name": "stdout",
     "output_type": "stream",
     "text": [
      "(6076, 24)\n",
      "(6076, 57)\n"
     ]
    }
   ],
   "source": [
    "print(X_train.shape)\n",
    "print(X_train_prepared.shape)\n"
   ]
  },
  {
   "cell_type": "code",
   "execution_count": null,
   "id": "852c100c",
   "metadata": {},
   "outputs": [],
   "source": [
    "# Now the model can be fitted with the prepared data ..."
   ]
  }
 ],
 "metadata": {
  "kernelspec": {
   "display_name": "Python 3 (ipykernel)",
   "language": "python",
   "name": "python3"
  },
  "language_info": {
   "codemirror_mode": {
    "name": "ipython",
    "version": 3
   },
   "file_extension": ".py",
   "mimetype": "text/x-python",
   "name": "python",
   "nbconvert_exporter": "python",
   "pygments_lexer": "ipython3",
   "version": "3.9.12"
  }
 },
 "nbformat": 4,
 "nbformat_minor": 5
}
