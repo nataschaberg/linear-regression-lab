{
 "cells": [
  {
   "cell_type": "code",
   "execution_count": 1,
   "id": "c9f32508",
   "metadata": {},
   "outputs": [],
   "source": [
    "import pandas as pd\n",
    "import numpy as np\n",
    "\n",
    "from sklearn.pipeline import Pipeline\n",
    "from sklearn.compose import ColumnTransformer\n",
    "from sklearn.preprocessing import StandardScaler, OneHotEncoder, OrdinalEncoder\n",
    "from sklearn.model_selection import train_test_split\n",
    "from sklearn.neural_network import MLPRegressor\n",
    "from sklearn.neighbors import KNeighborsRegressor\n",
    "from sklearn.linear_model import LinearRegression\n",
    "from sklearn.metrics import r2_score, mean_absolute_error, mean_squared_error, mean_absolute_percentage_error\n",
    "\n",
    "import seaborn as sns\n",
    "import matplotlib.pyplot as plt\n",
    "\n",
    "from sklearn import set_config\n",
    "set_config(display=\"diagram\")\n",
    "\n",
    "import warnings\n",
    "warnings.filterwarnings('ignore')"
   ]
  },
  {
   "cell_type": "markdown",
   "id": "8e66bde0",
   "metadata": {},
   "source": [
    "### Project Setup"
   ]
  },
  {
   "cell_type": "code",
   "execution_count": 15,
   "id": "b2f408d2",
   "metadata": {},
   "outputs": [
    {
     "name": "stdout",
     "output_type": "stream",
     "text": [
      "(9134, 24)\n"
     ]
    },
    {
     "data": {
      "text/html": [
       "<div>\n",
       "<style scoped>\n",
       "    .dataframe tbody tr th:only-of-type {\n",
       "        vertical-align: middle;\n",
       "    }\n",
       "\n",
       "    .dataframe tbody tr th {\n",
       "        vertical-align: top;\n",
       "    }\n",
       "\n",
       "    .dataframe thead th {\n",
       "        text-align: right;\n",
       "    }\n",
       "</style>\n",
       "<table border=\"1\" class=\"dataframe\">\n",
       "  <thead>\n",
       "    <tr style=\"text-align: right;\">\n",
       "      <th></th>\n",
       "      <th>Customer</th>\n",
       "      <th>State</th>\n",
       "      <th>Customer Lifetime Value</th>\n",
       "      <th>Response</th>\n",
       "      <th>Coverage</th>\n",
       "      <th>Education</th>\n",
       "      <th>Effective To Date</th>\n",
       "      <th>EmploymentStatus</th>\n",
       "      <th>Gender</th>\n",
       "      <th>Income</th>\n",
       "      <th>...</th>\n",
       "      <th>Months Since Policy Inception</th>\n",
       "      <th>Number of Open Complaints</th>\n",
       "      <th>Number of Policies</th>\n",
       "      <th>Policy Type</th>\n",
       "      <th>Policy</th>\n",
       "      <th>Renew Offer Type</th>\n",
       "      <th>Sales Channel</th>\n",
       "      <th>Total Claim Amount</th>\n",
       "      <th>Vehicle Class</th>\n",
       "      <th>Vehicle Size</th>\n",
       "    </tr>\n",
       "  </thead>\n",
       "  <tbody>\n",
       "    <tr>\n",
       "      <th>0</th>\n",
       "      <td>BU79786</td>\n",
       "      <td>Washington</td>\n",
       "      <td>2763.519279</td>\n",
       "      <td>No</td>\n",
       "      <td>Basic</td>\n",
       "      <td>Bachelor</td>\n",
       "      <td>2/24/11</td>\n",
       "      <td>Employed</td>\n",
       "      <td>F</td>\n",
       "      <td>56274</td>\n",
       "      <td>...</td>\n",
       "      <td>5</td>\n",
       "      <td>0</td>\n",
       "      <td>1</td>\n",
       "      <td>Corporate Auto</td>\n",
       "      <td>Corporate L3</td>\n",
       "      <td>Offer1</td>\n",
       "      <td>Agent</td>\n",
       "      <td>384.811147</td>\n",
       "      <td>Two-Door Car</td>\n",
       "      <td>Medsize</td>\n",
       "    </tr>\n",
       "  </tbody>\n",
       "</table>\n",
       "<p>1 rows × 24 columns</p>\n",
       "</div>"
      ],
      "text/plain": [
       "  Customer       State  Customer Lifetime Value Response Coverage Education  \\\n",
       "0  BU79786  Washington              2763.519279       No    Basic  Bachelor   \n",
       "\n",
       "  Effective To Date EmploymentStatus Gender  Income  ...  \\\n",
       "0           2/24/11         Employed      F   56274  ...   \n",
       "\n",
       "  Months Since Policy Inception Number of Open Complaints  Number of Policies  \\\n",
       "0                             5                         0                   1   \n",
       "\n",
       "      Policy Type        Policy  Renew Offer Type  Sales Channel  \\\n",
       "0  Corporate Auto  Corporate L3            Offer1          Agent   \n",
       "\n",
       "  Total Claim Amount Vehicle Class Vehicle Size  \n",
       "0         384.811147  Two-Door Car      Medsize  \n",
       "\n",
       "[1 rows x 24 columns]"
      ]
     },
     "execution_count": 15,
     "metadata": {},
     "output_type": "execute_result"
    }
   ],
   "source": [
    "df = pd.read_csv('files_for_lab/we_fn_use_c_marketing_customer_value_analysis.csv')\n",
    "print(df.shape)\n",
    "df.head(1)"
   ]
  },
  {
   "cell_type": "markdown",
   "id": "353f723d",
   "metadata": {},
   "source": [
    "### Data Cleaning"
   ]
  },
  {
   "cell_type": "code",
   "execution_count": 16,
   "id": "10890521",
   "metadata": {},
   "outputs": [],
   "source": [
    "# Custom class for the initial cleaning steps of:\n",
    "# removing duplicates, drop features, deal with date fatures and standardize headers\n",
    "\n",
    "class CustomInitialDataCleaner:\n",
    "    def __init__(self, drop_features=[], date_features=[]):\n",
    "        self.drop_features = drop_features\n",
    "        self.date_features = date_features\n",
    "    \n",
    "    def __remove_duplicates(self, X):\n",
    "        return X[~X.duplicated()]\n",
    "    \n",
    "    def __drop_features(self, X):\n",
    "        return X.drop(self.drop_features, axis=1, inplace=False)\n",
    "    \n",
    "    def __standardize_feature_headers(self, X):\n",
    "        X.columns = [col.lower().replace(' ', '_') for col in X.columns]\n",
    "        return X\n",
    "    \n",
    "    def __handle_dates(self, X):\n",
    "        for date_f in self.date_features:\n",
    "            date_feature = pd.to_datetime(X[date_f])\n",
    "            X[f'{date_f}_year'] = date_feature.dt.year\n",
    "            X[f'{date_f}_month'] = date_feature.dt.month\n",
    "            X[f'{date_f}_day'] = date_feature.dt.day\n",
    "            X.drop(date_f, axis=1, inplace=True)\n",
    "            return X\n",
    "        \n",
    "    def clean(self, X):\n",
    "        X = self.__remove_duplicates(X)\n",
    "        X = self.__drop_features(X)\n",
    "        X = self.__handle_dates(X)\n",
    "        return self.__standardize_feature_headers(X)"
   ]
  },
  {
   "cell_type": "code",
   "execution_count": 17,
   "id": "1e019a9b",
   "metadata": {},
   "outputs": [
    {
     "data": {
      "text/html": [
       "<div>\n",
       "<style scoped>\n",
       "    .dataframe tbody tr th:only-of-type {\n",
       "        vertical-align: middle;\n",
       "    }\n",
       "\n",
       "    .dataframe tbody tr th {\n",
       "        vertical-align: top;\n",
       "    }\n",
       "\n",
       "    .dataframe thead th {\n",
       "        text-align: right;\n",
       "    }\n",
       "</style>\n",
       "<table border=\"1\" class=\"dataframe\">\n",
       "  <thead>\n",
       "    <tr style=\"text-align: right;\">\n",
       "      <th></th>\n",
       "      <th>state</th>\n",
       "      <th>customer_lifetime_value</th>\n",
       "      <th>response</th>\n",
       "      <th>coverage</th>\n",
       "      <th>education</th>\n",
       "      <th>employmentstatus</th>\n",
       "      <th>gender</th>\n",
       "      <th>income</th>\n",
       "      <th>location_code</th>\n",
       "      <th>marital_status</th>\n",
       "      <th>...</th>\n",
       "      <th>policy_type</th>\n",
       "      <th>policy</th>\n",
       "      <th>renew_offer_type</th>\n",
       "      <th>sales_channel</th>\n",
       "      <th>total_claim_amount</th>\n",
       "      <th>vehicle_class</th>\n",
       "      <th>vehicle_size</th>\n",
       "      <th>effective_to_date_year</th>\n",
       "      <th>effective_to_date_month</th>\n",
       "      <th>effective_to_date_day</th>\n",
       "    </tr>\n",
       "  </thead>\n",
       "  <tbody>\n",
       "    <tr>\n",
       "      <th>0</th>\n",
       "      <td>Washington</td>\n",
       "      <td>2763.519279</td>\n",
       "      <td>No</td>\n",
       "      <td>Basic</td>\n",
       "      <td>Bachelor</td>\n",
       "      <td>Employed</td>\n",
       "      <td>F</td>\n",
       "      <td>56274</td>\n",
       "      <td>Suburban</td>\n",
       "      <td>Married</td>\n",
       "      <td>...</td>\n",
       "      <td>Corporate Auto</td>\n",
       "      <td>Corporate L3</td>\n",
       "      <td>Offer1</td>\n",
       "      <td>Agent</td>\n",
       "      <td>384.811147</td>\n",
       "      <td>Two-Door Car</td>\n",
       "      <td>Medsize</td>\n",
       "      <td>2011</td>\n",
       "      <td>2</td>\n",
       "      <td>24</td>\n",
       "    </tr>\n",
       "  </tbody>\n",
       "</table>\n",
       "<p>1 rows × 25 columns</p>\n",
       "</div>"
      ],
      "text/plain": [
       "        state  customer_lifetime_value response coverage education  \\\n",
       "0  Washington              2763.519279       No    Basic  Bachelor   \n",
       "\n",
       "  employmentstatus gender  income location_code marital_status  ...  \\\n",
       "0         Employed      F   56274      Suburban        Married  ...   \n",
       "\n",
       "      policy_type        policy  renew_offer_type  sales_channel  \\\n",
       "0  Corporate Auto  Corporate L3            Offer1          Agent   \n",
       "\n",
       "   total_claim_amount vehicle_class vehicle_size effective_to_date_year  \\\n",
       "0          384.811147  Two-Door Car      Medsize                   2011   \n",
       "\n",
       "  effective_to_date_month  effective_to_date_day  \n",
       "0                       2                     24  \n",
       "\n",
       "[1 rows x 25 columns]"
      ]
     },
     "execution_count": 17,
     "metadata": {},
     "output_type": "execute_result"
    }
   ],
   "source": [
    "cleaner = CustomInitialDataCleaner(date_features=['Effective To Date'], drop_features=['Customer'])\n",
    "df = cleaner.clean(df)\n",
    "df.head(1)"
   ]
  },
  {
   "cell_type": "markdown",
   "id": "8ab71c9e",
   "metadata": {},
   "source": [
    "### Check Null Values"
   ]
  },
  {
   "cell_type": "code",
   "execution_count": 18,
   "id": "1fda0927",
   "metadata": {},
   "outputs": [
    {
     "data": {
      "text/plain": [
       "state                            0\n",
       "customer_lifetime_value          0\n",
       "response                         0\n",
       "coverage                         0\n",
       "education                        0\n",
       "employmentstatus                 0\n",
       "gender                           0\n",
       "income                           0\n",
       "location_code                    0\n",
       "marital_status                   0\n",
       "monthly_premium_auto             0\n",
       "months_since_last_claim          0\n",
       "months_since_policy_inception    0\n",
       "number_of_open_complaints        0\n",
       "number_of_policies               0\n",
       "policy_type                      0\n",
       "policy                           0\n",
       "renew_offer_type                 0\n",
       "sales_channel                    0\n",
       "total_claim_amount               0\n",
       "vehicle_class                    0\n",
       "vehicle_size                     0\n",
       "effective_to_date_year           0\n",
       "effective_to_date_month          0\n",
       "effective_to_date_day            0\n",
       "dtype: int64"
      ]
     },
     "execution_count": 18,
     "metadata": {},
     "output_type": "execute_result"
    }
   ],
   "source": [
    "df.isna().sum()"
   ]
  },
  {
   "cell_type": "code",
   "execution_count": 19,
   "id": "92078dd0",
   "metadata": {},
   "outputs": [
    {
     "name": "stdout",
     "output_type": "stream",
     "text": [
      "[2011]\n"
     ]
    }
   ],
   "source": [
    "print(df['effective_to_date_year'].unique())\n",
    "# drop \n",
    "df.drop('effective_to_date_year', axis=1, inplace=True)"
   ]
  },
  {
   "cell_type": "code",
   "execution_count": 21,
   "id": "643d4506",
   "metadata": {},
   "outputs": [
    {
     "data": {
      "text/plain": [
       "(9134, 24)"
      ]
     },
     "execution_count": 21,
     "metadata": {},
     "output_type": "execute_result"
    }
   ],
   "source": [
    "df.shape"
   ]
  },
  {
   "cell_type": "markdown",
   "id": "258ea107",
   "metadata": {},
   "source": [
    "## Pipeline Setup"
   ]
  },
  {
   "cell_type": "markdown",
   "id": "18c58c38",
   "metadata": {},
   "source": [
    "#### Setup for custom pipeline:\n",
    "<br>\n",
    "    0) since no null values found -> no step is worked in here to deal with them<br>\n",
    "    2) scaling for numerical features<br>\n",
    "    3) OrdinalEncoder for selected categorcial features<br>\n",
    "    4) OneHotEncoder for selected categorical features<br>\n",
    "    5) estimator // model<br>"
   ]
  },
  {
   "cell_type": "markdown",
   "id": "a9b4db0a",
   "metadata": {},
   "source": [
    "#### Define ordinal features hierarchy and split the features "
   ]
  },
  {
   "cell_type": "code",
   "execution_count": 22,
   "id": "e19a59b7",
   "metadata": {},
   "outputs": [],
   "source": [
    "# split features into numerical and remove target variable \n",
    "numerical = df.select_dtypes('number').drop('total_claim_amount', axis=1, inplace=False)\n",
    "numerical_features = numerical.columns\n",
    "\n",
    "# split features into categorical; \n",
    "# then differentiate between ordinal categoricals and nominal ones\n",
    "categorical = df.select_dtypes('object')\n",
    "cat_ordinal_features = categorical[['coverage', 'location_code', 'employmentstatus', 'vehicle_size']].columns\n",
    "cat_onehot_features = categorical.loc[:, ~categorical.columns.isin(cat_ordinal_features)].columns\n",
    "\n",
    "# define order for the categorical features which will be handled by OerdinalEncoder\n",
    "predefined_order = [['Premium', 'Extended', 'Basic'], ['Urban', 'Suburban', 'Rural'], \\\n",
    "            ['Employed', 'Medical Leave','Unemployed', 'Retired', 'Disabled'], ['Large', 'Medsize', 'Small']]\n"
   ]
  },
  {
   "cell_type": "code",
   "execution_count": 31,
   "id": "c3c34351",
   "metadata": {},
   "outputs": [],
   "source": [
    "# custom func for pipeline defintion\n",
    "def make_custom_pipeline(model):\n",
    "    return Pipeline([\n",
    "                ('scaling', ColumnTransformer([\n",
    "                ('numerical', StandardScaler(), numerical_features),\n",
    "                ('cat_ordinal', OrdinalEncoder(categories=predefined_order), cat_ordinal_features),\n",
    "                ('cat_onehot', OneHotEncoder(sparse=False), cat_onehot_features)\n",
    "            ])),\n",
    "                ('model', model)\n",
    "            ])"
   ]
  },
  {
   "cell_type": "markdown",
   "id": "70279e3f",
   "metadata": {},
   "source": [
    "## Split data train / test "
   ]
  },
  {
   "cell_type": "code",
   "execution_count": 38,
   "id": "e4c86d6d",
   "metadata": {},
   "outputs": [],
   "source": [
    "# X-y split\n",
    "y = df['total_claim_amount']\n",
    "X = df.drop('total_claim_amount', axis=1, inplace=False)\n",
    "\n",
    "\n",
    "# train-test split\n",
    "X_train, X_test, y_train, y_test = train_test_split(X, y, test_size=0.3, random_state=42)"
   ]
  },
  {
   "cell_type": "markdown",
   "id": "e96a2f2a",
   "metadata": {},
   "source": [
    "## Train and evaluate models"
   ]
  },
  {
   "cell_type": "code",
   "execution_count": 39,
   "id": "9556a937",
   "metadata": {},
   "outputs": [],
   "source": [
    "models = [LinearRegression(), KNeighborsRegressor(n_neighbors=5), MLPRegressor(random_state=1, max_iter=500)]\n",
    "experiments = []"
   ]
  },
  {
   "cell_type": "code",
   "execution_count": 40,
   "id": "1d0a14c9",
   "metadata": {},
   "outputs": [],
   "source": [
    "for m in models:\n",
    "    experiments.append(make_custom_pipeline(m))"
   ]
  },
  {
   "cell_type": "code",
   "execution_count": 50,
   "id": "16ce2647",
   "metadata": {},
   "outputs": [],
   "source": [
    "metrics = []"
   ]
  },
  {
   "cell_type": "code",
   "execution_count": 52,
   "id": "ff6bbeac",
   "metadata": {},
   "outputs": [],
   "source": [
    "for pipe in experiments:\n",
    "    pipe.fit(X_train, y_train)\n",
    "    \n",
    "    y_pred_train = pipe.predict(X_train)\n",
    "    y_pred = pipe.predict(X_test)\n",
    "    \n",
    "    metrics.append([type(pipe[1]).__name__, 'train_set', r2_score(y_train, y_pred_train), \n",
    "                    mean_absolute_error(y_train, y_pred_train),\n",
    "                    mean_squared_error(y_train, y_pred_train, squared=False),\n",
    "                    mean_squared_error(y_train, y_pred_train, squared=True),\n",
    "                    mean_absolute_percentage_error(y_train, y_pred_train)])\n",
    "\n",
    "    metrics.append([type(pipe[1]).__name__, 'test_set', r2_score(y_test, y_pred), \n",
    "                    mean_absolute_error(y_test, y_pred),\n",
    "                    mean_squared_error(y_test, y_pred, squared=False),\n",
    "                    mean_squared_error(y_test, y_pred, squared=True),\n",
    "                    mean_absolute_percentage_error(y_test, y_pred)])\n",
    "    \n"
   ]
  },
  {
   "cell_type": "code",
   "execution_count": 53,
   "id": "15a49e8c",
   "metadata": {},
   "outputs": [
    {
     "data": {
      "text/html": [
       "<div>\n",
       "<style scoped>\n",
       "    .dataframe tbody tr th:only-of-type {\n",
       "        vertical-align: middle;\n",
       "    }\n",
       "\n",
       "    .dataframe tbody tr th {\n",
       "        vertical-align: top;\n",
       "    }\n",
       "\n",
       "    .dataframe thead th {\n",
       "        text-align: right;\n",
       "    }\n",
       "</style>\n",
       "<table border=\"1\" class=\"dataframe\">\n",
       "  <thead>\n",
       "    <tr style=\"text-align: right;\">\n",
       "      <th></th>\n",
       "      <th>model</th>\n",
       "      <th>data_set</th>\n",
       "      <th>r2_score</th>\n",
       "      <th>MAE</th>\n",
       "      <th>RMSE</th>\n",
       "      <th>MSE</th>\n",
       "      <th>MAPE</th>\n",
       "    </tr>\n",
       "  </thead>\n",
       "  <tbody>\n",
       "    <tr>\n",
       "      <th>0</th>\n",
       "      <td>LinearRegression</td>\n",
       "      <td>train_set</td>\n",
       "      <td>0.625137</td>\n",
       "      <td>129.534921</td>\n",
       "      <td>179.085679</td>\n",
       "      <td>32071.680552</td>\n",
       "      <td>1.542381</td>\n",
       "    </tr>\n",
       "    <tr>\n",
       "      <th>1</th>\n",
       "      <td>LinearRegression</td>\n",
       "      <td>test_set</td>\n",
       "      <td>0.621274</td>\n",
       "      <td>127.804549</td>\n",
       "      <td>175.832489</td>\n",
       "      <td>30917.064078</td>\n",
       "      <td>1.602365</td>\n",
       "    </tr>\n",
       "    <tr>\n",
       "      <th>2</th>\n",
       "      <td>KNeighborsRegressor</td>\n",
       "      <td>train_set</td>\n",
       "      <td>0.730633</td>\n",
       "      <td>100.725629</td>\n",
       "      <td>151.808773</td>\n",
       "      <td>23045.903590</td>\n",
       "      <td>1.393611</td>\n",
       "    </tr>\n",
       "    <tr>\n",
       "      <th>3</th>\n",
       "      <td>KNeighborsRegressor</td>\n",
       "      <td>test_set</td>\n",
       "      <td>0.613453</td>\n",
       "      <td>123.621136</td>\n",
       "      <td>177.638741</td>\n",
       "      <td>31555.522325</td>\n",
       "      <td>1.689422</td>\n",
       "    </tr>\n",
       "    <tr>\n",
       "      <th>4</th>\n",
       "      <td>MLPRegressor</td>\n",
       "      <td>train_set</td>\n",
       "      <td>0.853202</td>\n",
       "      <td>75.431618</td>\n",
       "      <td>112.068649</td>\n",
       "      <td>12559.382042</td>\n",
       "      <td>0.731717</td>\n",
       "    </tr>\n",
       "    <tr>\n",
       "      <th>5</th>\n",
       "      <td>MLPRegressor</td>\n",
       "      <td>test_set</td>\n",
       "      <td>0.811791</td>\n",
       "      <td>81.445949</td>\n",
       "      <td>123.952732</td>\n",
       "      <td>15364.279859</td>\n",
       "      <td>0.731362</td>\n",
       "    </tr>\n",
       "  </tbody>\n",
       "</table>\n",
       "</div>"
      ],
      "text/plain": [
       "                 model   data_set  r2_score         MAE        RMSE  \\\n",
       "0     LinearRegression  train_set  0.625137  129.534921  179.085679   \n",
       "1     LinearRegression   test_set  0.621274  127.804549  175.832489   \n",
       "2  KNeighborsRegressor  train_set  0.730633  100.725629  151.808773   \n",
       "3  KNeighborsRegressor   test_set  0.613453  123.621136  177.638741   \n",
       "4         MLPRegressor  train_set  0.853202   75.431618  112.068649   \n",
       "5         MLPRegressor   test_set  0.811791   81.445949  123.952732   \n",
       "\n",
       "            MSE      MAPE  \n",
       "0  32071.680552  1.542381  \n",
       "1  30917.064078  1.602365  \n",
       "2  23045.903590  1.393611  \n",
       "3  31555.522325  1.689422  \n",
       "4  12559.382042  0.731717  \n",
       "5  15364.279859  0.731362  "
      ]
     },
     "execution_count": 53,
     "metadata": {},
     "output_type": "execute_result"
    }
   ],
   "source": [
    "model_metrics = pd.DataFrame(metrics, columns=['model', 'data_set', 'r2_score', 'MAE', 'RMSE', 'MSE', 'MAPE'])\n",
    "model_metrics"
   ]
  },
  {
   "cell_type": "markdown",
   "id": "bd3df3f8",
   "metadata": {},
   "source": [
    "## Observations\n",
    "- best r2 score delivers MLPRegressor with 0.81 on test set - the RMSE is here 123.95 which implies that the prediction will deviate by roughly 124 dollars on average from target\n",
    "- also, KNeighborsRegressor seems to overfit since we see a large gap between the test and train data set predictions\n",
    "- LinearRegression delivers the second 'best' r2 score on test data; "
   ]
  },
  {
   "cell_type": "code",
   "execution_count": null,
   "id": "888f624d",
   "metadata": {},
   "outputs": [],
   "source": []
  }
 ],
 "metadata": {
  "kernelspec": {
   "display_name": "Python 3 (ipykernel)",
   "language": "python",
   "name": "python3"
  },
  "language_info": {
   "codemirror_mode": {
    "name": "ipython",
    "version": 3
   },
   "file_extension": ".py",
   "mimetype": "text/x-python",
   "name": "python",
   "nbconvert_exporter": "python",
   "pygments_lexer": "ipython3",
   "version": "3.9.12"
  }
 },
 "nbformat": 4,
 "nbformat_minor": 5
}
